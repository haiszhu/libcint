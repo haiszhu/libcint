{
 "cells": [
  {
   "cell_type": "code",
   "execution_count": null,
   "metadata": {},
   "outputs": [],
   "source": [
    "#!/usr/bin/env python\n",
    "# import data\n",
    "\n",
    "import numpy as np\n",
    "# from pyscf import gto, ao2mo\n",
    "from pyscf import gto\n",
    "import h5py\n",
    "\n",
    "mol = gto.M(\n",
    "        verbose = 0,\n",
    "        atom = '''\n",
    "        o    0    0.       0.\n",
    "        h    0    -0.757   0.587\n",
    "        h    0    0.757    0.587''',\n",
    "        basis = 'ccpvdz') \n",
    "\n",
    "# Read src\n",
    "with h5py.File('src_h2o_ccpvdz.h5', 'r') as ar:\n",
    "    src = ar['DS1'][()]\n",
    "    \n",
    "print(src.shape) #(num of boxes, num of points per box, xyz)"
   ]
  },
  {
   "cell_type": "code",
   "execution_count": null,
   "metadata": {},
   "outputs": [],
   "source": [
    "import plotly.graph_objects as go\n",
    "import numpy as np\n",
    "x = src[:, 0:10, 0].flatten() # only plotting 1st 10 points \n",
    "y = src[:, 0:10, 1].flatten()\n",
    "z = src[:, 0:10, 2].flatten()\n",
    "fig = go.Figure(data=[go.Scatter3d(\n",
    "  x=x, \n",
    "  y=y, \n",
    "  z=z,\n",
    "  mode='markers',\n",
    "  marker=dict(\n",
    "        size=1,\n",
    "        color=z,                \n",
    "        colorscale='Viridis',  \n",
    "        opacity=0.8\n",
    "    ))])\n",
    "fig.show()\n"
   ]
  },
  {
   "cell_type": "code",
   "execution_count": null,
   "metadata": {},
   "outputs": [],
   "source": [
    "x = src[:, :, 0].flatten() # all\n",
    "y = src[:, :, 1].flatten()\n",
    "z = src[:, :, 2].flatten()\n",
    "xyz = np.column_stack([x.flatten(),y.flatten(),z.flatten()])\n",
    "\n",
    "# Evaluate GTOs at the specified points\n",
    "vals = np.array(mol.eval_gto('GTOval_sph',xyz))\n",
    "print(vals.shape)\n"
   ]
  }
 ],
 "metadata": {
  "kernelspec": {
   "display_name": "Python 3",
   "language": "python",
   "name": "python3"
  },
  "language_info": {
   "codemirror_mode": {
    "name": "ipython",
    "version": 3
   },
   "file_extension": ".py",
   "mimetype": "text/x-python",
   "name": "python",
   "nbconvert_exporter": "python",
   "pygments_lexer": "ipython3",
   "version": "3.9.18"
  }
 },
 "nbformat": 4,
 "nbformat_minor": 2
}
